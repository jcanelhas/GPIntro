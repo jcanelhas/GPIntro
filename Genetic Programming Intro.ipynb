{
 "cells": [
  {
   "cell_type": "markdown",
   "metadata": {},
   "source": [
    "# An introductory Genetic Programming Algorithm"
   ]
  },
  {
   "cell_type": "markdown",
   "metadata": {},
   "source": [
    "This notebook provides an introducton to genetic programming."
   ]
  },
  {
   "cell_type": "markdown",
   "metadata": {},
   "source": [
    "## Basic Concepts"
   ]
  },
  {
   "cell_type": "code",
   "execution_count": null,
   "metadata": {
    "collapsed": true
   },
   "outputs": [],
   "source": []
  },
  {
   "cell_type": "markdown",
   "metadata": {},
   "source": [
    "### RPN Parser"
   ]
  },
  {
   "cell_type": "code",
   "execution_count": 91,
   "metadata": {
    "collapsed": true
   },
   "outputs": [],
   "source": [
    "import random\n",
    "import operator\n",
    "from math import *\n",
    "    "
   ]
  },
  {
   "cell_type": "code",
   "execution_count": 98,
   "metadata": {
    "collapsed": false
   },
   "outputs": [],
   "source": [
    "\"\"\"RPN PARSER\"\"\"\n",
    "def parseRPN(expression):\n",
    "    \"\"\"Parses and calculates the result of a RPN expression\n",
    "        takes a list in the form of ['2','2','*']\n",
    "    \"\"\"\"\"\n",
    "    def safe_divide(darg1, darg2):\n",
    "        # Here we can penalize asymptotes with by increasing the ERROR_VALUE to a\n",
    "        # large number\n",
    "        ERROR_VALUE = 1.\n",
    "        try:\n",
    "            return darg1 / darg2\n",
    "        except ZeroDivisionError:\n",
    "            return ERROR_VALUE\n",
    "\n",
    "    function_twoargs = {'*': operator.mul, '/': safe_divide, '+': operator.add, '-': operator.sub}\n",
    "    stack = []\n",
    "    for val in expression:\n",
    "        result = None\n",
    "        if val in function_twoargs:\n",
    "            arg2 = stack.pop()\n",
    "            arg1 = stack.pop()\n",
    "            result = function_twoargs[val](arg1, arg2)\n",
    "        else:\n",
    "            result = float(val)\n",
    "        stack.append(result)\n",
    "    return result"
   ]
  },
  {
   "cell_type": "markdown",
   "metadata": {},
   "source": [
    "Test the RPN parser"
   ]
  },
  {
   "cell_type": "code",
   "execution_count": 102,
   "metadata": {
    "collapsed": false
   },
   "outputs": [
    {
     "name": "stdout",
     "output_type": "stream",
     "text": [
      "6.0\n",
      "12.0\n"
     ]
    }
   ],
   "source": [
    "print(parseRPN(['2','3','*']))\n",
    "print(parseRPN(['2','3','*','6','+']))"
   ]
  },
  {
   "cell_type": "code",
   "execution_count": 10,
   "metadata": {
    "collapsed": true
   },
   "outputs": [],
   "source": []
  },
  {
   "cell_type": "code",
   "execution_count": 36,
   "metadata": {
    "collapsed": true
   },
   "outputs": [],
   "source": []
  },
  {
   "cell_type": "code",
   "execution_count": null,
   "metadata": {
    "collapsed": false
   },
   "outputs": [],
   "source": [
    "\n"
   ]
  }
 ],
 "metadata": {
  "kernelspec": {
   "display_name": "Python 3",
   "language": "python",
   "name": "python3"
  },
  "language_info": {
   "codemirror_mode": {
    "name": "ipython",
    "version": 3
   },
   "file_extension": ".py",
   "mimetype": "text/x-python",
   "name": "python",
   "nbconvert_exporter": "python",
   "pygments_lexer": "ipython3",
   "version": "3.5.3"
  }
 },
 "nbformat": 4,
 "nbformat_minor": 2
}
