{
 "cells": [
  {
   "cell_type": "markdown",
   "metadata": {},
   "source": [
    "# An introductory Genetic Programming Algorithm"
   ]
  },
  {
   "cell_type": "markdown",
   "metadata": {},
   "source": [
    "This notebook provides an introducton to genetic programming."
   ]
  },
  {
   "cell_type": "markdown",
   "metadata": {},
   "source": [
    "## Basic Concepts"
   ]
  },
  {
   "cell_type": "markdown",
   "metadata": {},
   "source": [
    "Common imports for the program"
   ]
  },
  {
   "cell_type": "code",
   "execution_count": 1,
   "metadata": {
    "collapsed": false
   },
   "outputs": [],
   "source": [
    "from random import shuffle,random, randint, choice, uniform\n",
    "import datetime\n",
    "import time\n",
    "import operator\n",
    "from math import *\n",
    "import matplotlib.pyplot as plt\n",
    "    "
   ]
  },
  {
   "cell_type": "markdown",
   "metadata": {},
   "source": [
    "## Program Settings"
   ]
  },
  {
   "cell_type": "markdown",
   "metadata": {},
   "source": [
    "Create a dictionary with the common program settings/parameters"
   ]
  },
  {
   "cell_type": "code",
   "execution_count": 2,
   "metadata": {
    "collapsed": false
   },
   "outputs": [],
   "source": [
    "runparameters = dict()\n",
    "runparameters['RUN_ID'] = (datetime.datetime.now().strftime(\"%Y%m%d%H%M%S%f\"))\n",
    "runparameters['PROGRAM_DEPTH'] = 5\n",
    "runparameters['MAX_PROGRAM_DEPTH'] = 12\n",
    "runparameters['POPULATION_SIZE'] = 200\n",
    "runparameters['TOURNMENT_SIZE'] = 4\n",
    "runparameters['MAX_GENERATIONS'] = 100\n",
    "runparameters['TREE_GENERATION_MODE'] = 'rhah'\n",
    "runparameters['CROSSOVER_RATE'] = 0.9\n",
    "runparameters['MUTATION_RATE'] = 0.1\n",
    "runparameters['N_VARIABLES'] = 1\n",
    "runparameters['TRAININGTESTRATIO'] = 0.8\n",
    "runparameters['VARIABLERATIO'] = 0.99\n",
    "runparameters['DATAFILENAME'] = 'fittable_sin.txt'\n",
    "\n",
    "#print(runparameters)  #Uncoment this for some debugging if needed"
   ]
  },
  {
   "cell_type": "markdown",
   "metadata": {},
   "source": [
    "## Read the Data"
   ]
  },
  {
   "cell_type": "markdown",
   "metadata": {},
   "source": [
    "Read the data file and split it into training and test sets"
   ]
  },
  {
   "cell_type": "code",
   "execution_count": 3,
   "metadata": {
    "collapsed": true
   },
   "outputs": [],
   "source": [
    "def readdatafile(filename):\n",
    "    \"\"\"data should be separated by semicolons and the last column should be the result\"\"\"\n",
    "    import csv\n",
    "    with open(filename, 'r') as f:\n",
    "        reader = csv.reader(f,delimiter=';')\n",
    "        outp = [list(map(float,rec)) for rec in reader]\n",
    "    return outp"
   ]
  },
  {
   "cell_type": "code",
   "execution_count": 4,
   "metadata": {
    "collapsed": false
   },
   "outputs": [],
   "source": [
    "fulldataset=readdatafile(runparameters['DATAFILENAME'])\n",
    "#Since we want random samples for the training and test sets will shuffle the list\n",
    "shuffle(fulldataset)\n",
    "#do the spliting\n",
    "trainingsetsize=int(len(fulldataset)*runparameters['TRAININGTESTRATIO'])\n",
    "testsetsize=len(fulldataset)-trainingsetsize\n",
    "trainingset,testset=fulldataset[:trainingsetsize],fulldataset[-testsetsize:]\n",
    "#sort them again just for intuition sake\n",
    "testset.sort()\n",
    "trainingset.sort()"
   ]
  },
  {
   "cell_type": "markdown",
   "metadata": {},
   "source": [
    "## Lets look at the sets"
   ]
  },
  {
   "cell_type": "markdown",
   "metadata": {},
   "source": [
    "This will create a plot of the training and test sets.\n",
    "The testset looks more ruged because of the fewer samples it contains"
   ]
  },
  {
   "cell_type": "code",
   "execution_count": 7,
   "metadata": {
    "collapsed": false
   },
   "outputs": [
    {
     "data": {
      "image/png": "[encoded data removed]",
      "text/plain": [
       "<matplotlib.figure.Figure at 0x1fd42cc2be0>"
      ]
     },
     "metadata": {},
     "output_type": "display_data"
    },
    {
     "data": {
      "image/png": "[encoded data removed]",
      "text/plain": [
       "<matplotlib.figure.Figure at 0x1fd42c78ac8>"
      ]
     },
     "metadata": {},
     "output_type": "display_data"
    }
   ],
   "source": [
    "%matplotlib inline\n",
    "\n",
    "x=list()\n",
    "x[:]=[]\n",
    "y=list()\n",
    "y[:]=[]\n",
    "for n in trainingset:\n",
    "    x.append(n[0])\n",
    "    y.append(n[1])\n",
    "plt.clf()\n",
    "plt.plot( x,y)\n",
    "plt.show()\n",
    "\n",
    "x=list()\n",
    "x[:]=[]\n",
    "y=list()\n",
    "y[:]=[]\n",
    "for n in testset:\n",
    "    x.append(n[0])\n",
    "    y.append(n[1])\n",
    "plt.clf()\n",
    "plt.plot(x,y)\n",
    "plt.show()"
   ]
  },
  {
   "cell_type": "code",
   "execution_count": null,
   "metadata": {
    "collapsed": false
   },
   "outputs": [],
   "source": []
  },
  {
   "cell_type": "code",
   "execution_count": null,
   "metadata": {
    "collapsed": true
   },
   "outputs": [],
   "source": []
  },
  {
   "cell_type": "code",
   "execution_count": null,
   "metadata": {
    "collapsed": true
   },
   "outputs": [],
   "source": []
  },
  {
   "cell_type": "markdown",
   "metadata": {},
   "source": [
    "### RPN Parser"
   ]
  },
  {
   "cell_type": "markdown",
   "metadata": {
    "collapsed": true
   },
   "source": [
    "We will be parsing the RPN files, the function bellow evaluates the RPNexpression and returns the achieved value"
   ]
  },
  {
   "cell_type": "code",
   "execution_count": 9,
   "metadata": {
    "collapsed": false
   },
   "outputs": [],
   "source": [
    "\"\"\"RPN PARSER\"\"\"\n",
    "def parseRPN(expression):\n",
    "    \"\"\"Parses and calculates the result of a RPN expression\n",
    "        takes a list in the form of ['2','2','*']\n",
    "    \"\"\"\"\"\n",
    "    def safe_divide(darg1, darg2):\n",
    "        # Here we can penalize asymptotes with by increasing the ERROR_VALUE to a\n",
    "        # large number\n",
    "        ERROR_VALUE = 1.\n",
    "        try:\n",
    "            return darg1 / darg2\n",
    "        except ZeroDivisionError:\n",
    "            return ERROR_VALUE\n",
    "\n",
    "    function_twoargs = {'*': operator.mul, '/': safe_divide, '+': operator.add, '-': operator.sub}\n",
    "    stack = []\n",
    "    for val in expression:\n",
    "        result = None\n",
    "        if val in function_twoargs:\n",
    "            arg2 = stack.pop()\n",
    "            arg1 = stack.pop()\n",
    "            result = function_twoargs[val](arg1, arg2)\n",
    "        else:\n",
    "            result = float(val)\n",
    "        stack.append(result)\n",
    "    return result"
   ]
  },
  {
   "cell_type": "markdown",
   "metadata": {},
   "source": [
    "Test the RPN parser"
   ]
  },
  {
   "cell_type": "code",
   "execution_count": 10,
   "metadata": {
    "collapsed": false
   },
   "outputs": [
    {
     "name": "stdout",
     "output_type": "stream",
     "text": [
      "6.0\n",
      "12.0\n"
     ]
    }
   ],
   "source": [
    "print(parseRPN(['2','3','*']))\n",
    "print(parseRPN(['2','3','*','6','+']))"
   ]
  },
  {
   "cell_type": "markdown",
   "metadata": {
    "collapsed": true
   },
   "source": [
    "# Population"
   ]
  },
  {
   "cell_type": "markdown",
   "metadata": {
    "collapsed": true
   },
   "source": [
    "The population is a list of potencial solutions"
   ]
  },
  {
   "cell_type": "markdown",
   "metadata": {},
   "source": [
    "To generate the pupulation we need to create some RPN expressions, it is easier to do so recursively"
   ]
  },
  {
   "cell_type": "code",
   "execution_count": 136,
   "metadata": {
    "collapsed": false
   },
   "outputs": [],
   "source": [
    "def generate_RPN_expr(prevtree,depth,growthtype,nvars,varratio):\n",
    "    \n",
    "    def selectRandomVariable(nvars):\n",
    "        return 'x'+str(randint(0,nvars-1))\n",
    "\n",
    "    def getRandomOperator():\n",
    "        \"\"\"function to return a random valid operator\"\"\"\n",
    "        tmprnd=random()\n",
    "        if tmprnd < 0.25:\n",
    "            return '+'\n",
    "        elif tmprnd < 0.5:\n",
    "            return '*'\n",
    "        elif tmprnd < 0.75:\n",
    "            return '-'\n",
    "        else:\n",
    "            return '/'    \n",
    "    \n",
    "    tmptree=\"\"\n",
    "    if growthtype=='full':\n",
    "        if depth>0:\n",
    "            if random()>=0.5 or prevtree==\"\":\n",
    "                #cria subtree\n",
    "                tmptree=str(generate_RPN_expr(tmptree,depth-1,growthtype,nvars,varratio)) + str(generate_RPN_expr(tmptree,depth-1,growthtype,nvars,varratio)) + str(getRandomOperator()) + \" \" + tmptree\n",
    "            else:\n",
    "                #assigna valor\n",
    "                tmptree=(str(uniform(-5,5))) + \" \" + tmptree\n",
    "        else:\n",
    "            if random()>=varratio:\n",
    "                tmptree=(str(uniform(-5,5))) + \" \" + tmptree\n",
    "            else:\n",
    "                tmptree=selectRandomVariable(nvars) + \" \" + tmptree\n",
    "    elif growthtype=='grow':\n",
    "        if depth > 0:\n",
    "            if random() >= 0.5 :\n",
    "                tmptree = str(generate_RPN_expr(tmptree, depth - 1,growthtype,nvars,varratio)) + str(generate_RPN_expr(tmptree, depth - 1,growthtype,nvars,varratio)) + str(getRandomOperator()) + \" \" + tmptree\n",
    "            else:\n",
    "                # assigna valor\n",
    "                if random() >= varratio:\n",
    "                    tmptree = (str(uniform(-5,5))) + \" \" + tmptree\n",
    "                else:\n",
    "                    tmptree = selectRandomVariable(nvars) + \" \" + tmptree\n",
    "        else:\n",
    "            if random() >= varratio:\n",
    "                tmptree = (str(uniform(-5,5))) + \" \" + tmptree\n",
    "            else:\n",
    "                tmptree = selectRandomVariable(nvars) + \" \" + tmptree\n",
    "    else:\n",
    "        print ('EEEKKKKKKKKKKKK EL PROBLEMO !!!')\n",
    "    return tmptree #\"(\" + tmptree + \")\""
   ]
  },
  {
   "cell_type": "code",
   "execution_count": 137,
   "metadata": {
    "collapsed": true
   },
   "outputs": [],
   "source": [
    "#this function generates the population\n",
    "def generate_population(popsize, progdepth, method, nvars, varratio):\n",
    "    pop=list()\n",
    "    components=list()\n",
    "    pop[:]=[]\n",
    "\n",
    "    if method is 'grow' or method is 'full':\n",
    "        for i in range(0,popsize):\n",
    "            tmp=generate_RPN_expr(\"\",progdepth,method,nvars,varratio)\n",
    "            tmp=tmp[0:len(tmp)-1]\n",
    "            #components[:]=[]\n",
    "            components = [''.join(i) for i in tmp.split(' ')]\n",
    "            if len(components)==2:\n",
    "                print('error generate init pop >>> 2')\n",
    "            if len(components)==0:\n",
    "                print('error generate init pop >>> 0')\n",
    "            pop.append(components)\n",
    "    elif method is 'rhah':\n",
    "        #todo fix population size problem\n",
    "        #dividir a populacao em degraus\n",
    "        nsteps=int(popsize/progdepth)\n",
    "        for i in range(0,progdepth):\n",
    "            for k in range(0,nsteps):\n",
    "                ##dois em dois\n",
    "                if k%2==0:\n",
    "                    tmp = generate_RPN_expr(\"\", i, 'grow',nvars,varratio)\n",
    "                else:\n",
    "                    tmp = generate_RPN_expr(\"\", i, 'full',nvars,varratio)\n",
    "\n",
    "                tmp = tmp[0:len(tmp) - 1]\n",
    "                # components[:]=[]\n",
    "                components = [''.join(i) for i in tmp.split(' ')]\n",
    "                if len(components) == 2:\n",
    "                    print('error generate init pop >>> 2')\n",
    "                if len(components) == 0:\n",
    "                    print('error generate init pop >>> 0')\n",
    "                pop.append(components)\n",
    "\n",
    "    return pop"
   ]
  },
  {
   "cell_type": "markdown",
   "metadata": {},
   "source": [
    "### Now we can generate the population"
   ]
  },
  {
   "cell_type": "markdown",
   "metadata": {},
   "source": [
    "Lets now initialize the original population"
   ]
  },
  {
   "cell_type": "code",
   "execution_count": 138,
   "metadata": {
    "collapsed": false
   },
   "outputs": [
    {
     "name": "stdout",
     "output_type": "stream",
     "text": [
      "Population with 200 individuals.\n"
     ]
    }
   ],
   "source": [
    "population=list()\n",
    "population[:]=[]\n",
    "\n",
    "\n",
    "population=generate_population(runparameters['POPULATION_SIZE'],\n",
    "                               runparameters['PROGRAM_DEPTH'],\n",
    "                               runparameters['TREE_GENERATION_MODE'],\n",
    "                               runparameters['N_VARIABLES'],\n",
    "                               runparameters['VARIABLERATIO'])\n",
    "\n",
    "print(\"Population with \" + str(len(population)) + \" individuals.\")"
   ]
  },
  {
   "cell_type": "code",
   "execution_count": 139,
   "metadata": {
    "collapsed": false
   },
   "outputs": [
    {
     "name": "stdout",
     "output_type": "stream",
     "text": [
      "['x0']\n",
      "['x0']\n",
      "['x0']\n",
      "['x0']\n",
      "['x0']\n",
      "['x0']\n",
      "['x0']\n",
      "['x0']\n",
      "['x0']\n",
      "['x0']\n",
      "['x0']\n",
      "['x0']\n",
      "['x0']\n",
      "['x0']\n",
      "['x0']\n",
      "['x0']\n",
      "['x0']\n",
      "['x0']\n",
      "['x0']\n",
      "['x0']\n",
      "['x0']\n",
      "['x0']\n",
      "['x0']\n",
      "['x0']\n",
      "['x0']\n",
      "['x0']\n",
      "['x0']\n",
      "['x0']\n",
      "['x0']\n",
      "['x0']\n",
      "['x0']\n",
      "['x0']\n",
      "['-2.756404720918293']\n",
      "['x0']\n",
      "['x0']\n",
      "['x0']\n",
      "['x0']\n",
      "['x0']\n",
      "['x0']\n",
      "['x0']\n",
      "['x0']\n",
      "['x0', 'x0', '/']\n",
      "['x0']\n",
      "['x0', 'x0', '+']\n",
      "['x0']\n",
      "['x0', 'x0', '*']\n",
      "['x0']\n",
      "['x0', 'x0', '*']\n",
      "['x0']\n",
      "['x0', 'x0', '-']\n",
      "['x0']\n",
      "['x0', 'x0', '*']\n",
      "['x0']\n",
      "['x0', 'x0', '*']\n",
      "['x0']\n",
      "['x0', 'x0', '/']\n",
      "['x0', 'x0', '+']\n",
      "['x0', 'x0', '-']\n",
      "['x0', 'x0', '*']\n",
      "['x0', 'x0', '-']\n",
      "['x0', 'x0', '/']\n",
      "['x0', 'x0', '*']\n",
      "['x0']\n",
      "['x0', 'x0', '/']\n",
      "['x0']\n",
      "['x0', 'x0', '*']\n",
      "['x0', 'x0', '+']\n",
      "['x0', 'x0', '-']\n",
      "['x0', 'x0', '-']\n",
      "['x0', 'x0', '*']\n",
      "['x0']\n",
      "['x0', 'x0', '-']\n",
      "['x0']\n",
      "['x0', 'x0', '*']\n",
      "['x0']\n",
      "['x0', 'x0', '-']\n",
      "['x0']\n",
      "['x0', 'x0', '+']\n",
      "['x0', 'x0', '/']\n",
      "['x0', 'x0', '+']\n",
      "['x0']\n",
      "['x0', 'x0', '*', 'x0', 'x0', '/', '*']\n",
      "['x0']\n",
      "['x0', 'x0', '*', 'x0', 'x0', '*', '+']\n",
      "['x0']\n",
      "['x0', 'x0', '*', 'x0', 'x0', '+', '-']\n",
      "['x0', 'x0', 'x0', '-', '*']\n",
      "['x0', 'x0', '/', 'x0', 'x0', '/', '*']\n",
      "['x0']\n",
      "['x0', 'x0', '/', 'x0', 'x0', '/', '/']\n",
      "['x0', 'x0', '/', 'x0', 'x0', '*', '-']\n",
      "['x0', 'x0', '/', 'x0', 'x0', '*', '-']\n",
      "['x0', 'x0', '*']\n",
      "['x0', 'x0', '*', 'x0', 'x0', '+', '-']\n",
      "['x0', 'x0', '+']\n",
      "['x0', 'x0', '/', 'x0', 'x0', '+', '*']\n",
      "['x0']\n",
      "['x0', 'x0', '*', 'x0', 'x0', '-', '*']\n",
      "['x0', 'x0', 'x0', '+', '+']\n",
      "['x0', 'x0', '+', 'x0', 'x0', '/', '/']\n",
      "['x0']\n",
      "['x0', 'x0', '-', 'x0', 'x0', '/', '*']\n",
      "['x0']\n",
      "['x0', 'x0', '-', 'x0', 'x0', '/', '/']\n",
      "['x0', 'x0', '/']\n",
      "['x0', 'x0', '/', 'x0', 'x0', '*', '*']\n",
      "['x0']\n",
      "['x0', 'x0', '/', 'x0', 'x0', '*', '-']\n",
      "['x0']\n",
      "['x0', 'x0', '*', 'x0', 'x0', '*', '-']\n",
      "['x0', 'x0', '*', 'x0', '-']\n",
      "['x0', 'x0', '+', 'x0', 'x0', '+', '*']\n",
      "['x0', 'x0', '-']\n",
      "['x0', 'x0', '-', 'x0', 'x0', '-', '/']\n",
      "['x0', 'x0', 'x0', '*', '/']\n",
      "['x0', 'x0', '-', 'x0', 'x0', '-', '/']\n",
      "['x0']\n",
      "['x0', 'x0', '/', 'x0', 'x0', '*', '/']\n",
      "['x0', 'x0', 'x0', '*', '-']\n",
      "['x0', 'x0', '/', 'x0', 'x0', '*', '-']\n",
      "['x0', 'x0', '*']\n",
      "['x0', 'x0', '-', 'x0', 'x0', '+', '+', 'x0', 'x0', '*', 'x0', 'x0', '-', '-', '/']\n",
      "['x0']\n",
      "['x0', 'x0', '-', 'x0', 'x0', '*', '+', 'x0', 'x0', '/', 'x0', 'x0', '*', '/', '+']\n",
      "['x0', 'x0', '*', 'x0', '/', 'x0', '*']\n",
      "['x0', 'x0', '+', 'x0', 'x0', '-', '*', 'x0', 'x0', '+', 'x0', 'x0', '-', '*', '+']\n",
      "['x0', 'x0', '*', 'x0', 'x0', '+', 'x0', '-', '/']\n",
      "['x0', 'x0', '/', 'x0', 'x0', '*', '/', 'x0', 'x0', '+', 'x0', 'x0', '*', '/', '-']\n",
      "['x0', 'x0', '*', 'x0', 'x0', '-', '/', 'x0', '+']\n",
      "['x0', 'x0', '-', 'x0', 'x0', '*', '+', 'x0', 'x0', '*', 'x0', 'x0', '*', '+', '-']\n",
      "['x0', 'x0', 'x0', '/', '+', 'x0', 'x0', '-', 'x0', 'x0', '*', '+', '-']\n",
      "['x0', 'x0', '*', 'x0', 'x0', '/', '-', 'x0', 'x0', '*', 'x0', 'x0', '/', '-', '/']\n",
      "['x0']\n",
      "['x0', 'x0', '-', 'x0', 'x0', '-', '*', 'x0', 'x0', '-', 'x0', 'x0', '*', '*', '+']\n",
      "['x0']\n",
      "['x0', 'x0', '/', 'x0', 'x0', '-', '+', 'x0', 'x0', '*', 'x0', 'x0', '/', '-', '-']\n",
      "['x0']\n",
      "['x0', 'x0', '-', 'x0', 'x0', '-', '+', 'x0', 'x0', '*', 'x0', 'x0', '/', '+', '+']\n",
      "['x0']\n",
      "['x0', 'x0', '/', 'x0', 'x0', '/', '/', 'x0', 'x0', '*', 'x0', 'x0', '/', '+', '*']\n",
      "['x0', 'x0', '+']\n",
      "['x0', 'x0', '/', 'x0', 'x0', '*', '+', 'x0', 'x0', '+', 'x0', 'x0', '-', '/', '*']\n",
      "['x0', 'x0', '-3.760313735589037', '+', '*']\n",
      "['-3.4347984798892095', 'x0', '-', 'x0', 'x0', '-', '+', 'x0', 'x0', '-', 'x0', 'x0', '-', '/', '*']\n",
      "['x0']\n",
      "['x0', 'x0', '-', 'x0', 'x0', '*', '+', 'x0', 'x0', '/', 'x0', 'x0', '*', '*', '*']\n",
      "['x0']\n",
      "['x0', 'x0', '/', 'x0', 'x0', '/', '-', 'x0', 'x0', '/', 'x0', 'x0', '-', '-', '+']\n",
      "['x0', 'x0', '*']\n",
      "['x0', 'x0', '/', 'x0', 'x0', '-', '-', 'x0', 'x0', '*', 'x0', 'x0', '+', '-', '*']\n",
      "['x0']\n",
      "['x0', 'x0', '+', 'x0', 'x0', '+', '+', 'x0', 'x0', '+', 'x0', 'x0', '*', '+', '+']\n",
      "['x0', 'x0', '/', 'x0', '/']\n",
      "['x0', 'x0', '/', 'x0', 'x0', '/', '*', 'x0', 'x0', '/', 'x0', 'x0', '*', '/', '-']\n",
      "['x0', 'x0', 'x0', '/', '+']\n",
      "['x0', 'x0', '-', 'x0', 'x0', '+', '-', 'x0', 'x0', '*', 'x0', 'x0', '*', '*', '-']\n",
      "['x0', 'x0', 'x0', '-', '*', 'x0', 'x0', '*', '*']\n",
      "['x0', 'x0', '*', 'x0', 'x0', '+', '+', 'x0', 'x0', '/', 'x0', 'x0', '-', '*', '-']\n",
      "['x0', 'x0', '/']\n",
      "['x0', 'x0', '*', 'x0', 'x0', '+', '+', 'x0', 'x0', '+', 'x0', 'x0', '+', '-', '+']\n",
      "['x0']\n",
      "['-2.804421133415679', 'x0', '-', 'x0', 'x0', '-', '-', 'x0', 'x0', '+', 'x0', 'x0', '-', '-', '*', 'x0', 'x0', '*', '3.4650874191462577', 'x0', '*', '-', 'x0', 'x0', '*', 'x0', 'x0', '+', '-', '+', '+']\n",
      "['x0']\n",
      "['x0', 'x0', '/', 'x0', 'x0', '/', '+', 'x0', 'x0', '-', 'x0', 'x0', '+', '-', '-', 'x0', '-3.7957222784675073', '-', 'x0', 'x0', '-', '*', 'x0', 'x0', '-', 'x0', 'x0', '/', '/', '+', '+']\n",
      "['x0']\n",
      "['x0', 'x0', '*', '-1.2129394077984945', 'x0', '-', '*', 'x0', 'x0', '*', 'x0', 'x0', '*', '+', '*', 'x0', 'x0', '*', 'x0', 'x0', '/', '/', 'x0', 'x0', '*', 'x0', 'x0', '+', '-', '+', '+']\n",
      "['x0', 'x0', '/']\n",
      "['x0', 'x0', '*', 'x0', 'x0', '+', '/', 'x0', 'x0', '-', 'x0', 'x0', '-', '+', '+', '2.5094759568914524', 'x0', '+', 'x0', 'x0', '/', '+', 'x0', 'x0', '/', 'x0', 'x0', '-', '*', '-', '-']\n",
      "['x0']\n",
      "['x0', 'x0', '/', 'x0', 'x0', '+', '/', 'x0', 'x0', '*', 'x0', 'x0', '-', '/', '+', 'x0', 'x0', '-', 'x0', 'x0', '*', '+', 'x0', 'x0', '*', 'x0', 'x0', '*', '+', '-', '-']\n",
      "['x0']\n",
      "['x0', 'x0', '+', 'x0', 'x0', '/', '*', 'x0', 'x0', '*', 'x0', 'x0', '+', '/', '-', 'x0', 'x0', '-', 'x0', 'x0', '-', '*', 'x0', 'x0', '+', 'x0', 'x0', '+', '-', '-', '/']\n",
      "['x0']\n",
      "['x0', 'x0', '-', 'x0', 'x0', '/', '/', 'x0', 'x0', '*', '2.802806731372062', 'x0', '+', '*', '*', 'x0', 'x0', '/', 'x0', 'x0', '-', '*', 'x0', 'x0', '*', 'x0', 'x0', '-', '+', '-', '-']\n",
      "['x0', 'x0', '+']\n",
      "['x0', 'x0', '/', 'x0', 'x0', '*', '/', 'x0', '-3.2195577260479036', '*', 'x0', 'x0', '-', '+', '*', 'x0', 'x0', '*', 'x0', 'x0', '*', '*', 'x0', 'x0', '*', 'x0', 'x0', '*', '/', '/', '-']\n",
      "['x0']\n",
      "['x0', 'x0', '*', 'x0', 'x0', '*', '/', 'x0', 'x0', '*', 'x0', 'x0', '+', '-', '-', 'x0', 'x0', '/', 'x0', 'x0', '-', '-', 'x0', 'x0', '*', 'x0', 'x0', '/', '*', '-', '-']\n",
      "['x0', 'x0', '/']\n",
      "['x0', 'x0', '/', 'x0', 'x0', '/', '+', 'x0', 'x0', '-', 'x0', 'x0', '+', '*', '-', 'x0', 'x0', '/', 'x0', 'x0', '/', '-', 'x0', 'x0', '-', 'x0', 'x0', '/', '+', '/', '+']\n",
      "['x0', 'x0', 'x0', '*', '*', 'x0', '*', 'x0', 'x0', '-', '/']\n",
      "['x0', 'x0', '+', 'x0', 'x0', '/', '*', 'x0', 'x0', '-', 'x0', 'x0', '-', '+', '+', 'x0', 'x0', '*', 'x0', 'x0', '-', '/', 'x0', 'x0', '/', 'x0', 'x0', '+', '-', '-', '*']\n",
      "['x0']\n",
      "['x0', 'x0', '/', 'x0', 'x0', '*', '+', 'x0', 'x0', '/', 'x0', 'x0', '+', '+', '*', 'x0', 'x0', '*', 'x0', 'x0', '+', '*', 'x0', 'x0', '*', 'x0', 'x0', '+', '/', '/', '/']\n",
      "['x0', 'x0', 'x0', '*', '*', 'x0', 'x0', '*', '+', 'x0', 'x0', '-', '-']\n",
      "['x0', 'x0', '*', 'x0', 'x0', '-', '+', 'x0', 'x0', '*', 'x0', 'x0', '/', '*', '/', 'x0', 'x0', '-', 'x0', 'x0', '/', '-', 'x0', 'x0', '+', 'x0', 'x0', '+', '/', '-', '/']\n",
      "['x0', 'x0', 'x0', '+', '-', 'x0', 'x0', '+', 'x0', 'x0', '+', '/', '*', 'x0', 'x0', 'x0', 'x0', '-', '*', '*', '*']\n",
      "['x0', 'x0', '+', 'x0', 'x0', '*', '-', 'x0', 'x0', '+', 'x0', 'x0', '-', '-', '*', 'x0', 'x0', '-', 'x0', 'x0', '-', '+', 'x0', 'x0', '+', 'x0', 'x0', '*', '/', '*', '-']\n",
      "['x0']\n",
      "['x0', 'x0', '-', 'x0', 'x0', '/', '/', 'x0', 'x0', '+', 'x0', 'x0', '/', '-', '*', 'x0', 'x0', '*', 'x0', 'x0', '*', '/', 'x0', 'x0', '+', 'x0', 'x0', '/', '+', '*', '*']\n",
      "['x0', 'x0', '+']\n",
      "['x0', 'x0', '-', 'x0', 'x0', '*', '-', 'x0', 'x0', '-', 'x0', 'x0', '*', '*', '+', 'x0', 'x0', '*', 'x0', 'x0', '/', '+', 'x0', 'x0', '+', 'x0', 'x0', '+', '-', '+', '*']\n",
      "['x0', 'x0', '*', 'x0', '/', 'x0', 'x0', '+', '/']\n",
      "['x0', 'x0', '+', 'x0', 'x0', '/', '/', 'x0', 'x0', '-', 'x0', 'x0', '-', '/', '-', 'x0', 'x0', '-', 'x0', 'x0', '+', '*', 'x0', 'x0', '*', 'x0', 'x0', '*', '+', '+', '*']\n",
      "['x0']\n",
      "['x0', 'x0', '+', 'x0', 'x0', '*', '*', 'x0', 'x0', '*', 'x0', 'x0', '+', '-', '*', 'x0', 'x0', '/', 'x0', 'x0', '+', '/', 'x0', 'x0', '+', 'x0', 'x0', '+', '-', '*', '/']\n",
      "['x0', 'x0', 'x0', '-', '*', 'x0', '*']\n",
      "['x0', 'x0', '+', 'x0', 'x0', '-', '+', 'x0', 'x0', '/', 'x0', 'x0', '+', '+', '/', 'x0', 'x0', '+', 'x0', 'x0', '+', '/', 'x0', 'x0', '+', 'x0', 'x0', '+', '*', '+', '-']\n",
      "['x0']\n",
      "['x0', 'x0', '+', 'x0', 'x0', '+', '*', 'x0', 'x0', '/', 'x0', 'x0', '+', '*', '+', 'x0', 'x0', '/', 'x0', 'x0', '*', '+', 'x0', 'x0', '/', 'x0', 'x0', '-', '-', '/', '*']\n"
     ]
    }
   ],
   "source": [
    "for i in population:\n",
    "    print(i)"
   ]
  }
 ],
 "metadata": {
  "anaconda-cloud": {},
  "kernelspec": {
   "display_name": "Python [default]",
   "language": "python",
   "name": "python3"
  },
  "language_info": {
   "codemirror_mode": {
    "name": "ipython",
    "version": 3
   },
   "file_extension": ".py",
   "mimetype": "text/x-python",
   "name": "python",
   "nbconvert_exporter": "python",
   "pygments_lexer": "ipython3",
   "version": "3.5.2"
  }
 },
 "nbformat": 4,
 "nbformat_minor": 2
}
